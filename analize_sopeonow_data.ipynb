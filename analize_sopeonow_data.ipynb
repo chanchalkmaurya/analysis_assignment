{
 "cells": [
  {
   "cell_type": "markdown",
   "id": "730762be-d7c7-42be-94ff-a1a8a7dce578",
   "metadata": {},
   "source": [
    "# Assignment\n",
    "\n",
    "### dataset : https://drive.google.com/file/d/1HBOA5wHlTIs8qBYcwlseBqgU45jtGrVU/view?usp=drive_link\n",
    "\n",
    "## Description:\n",
    "In the dataset following columns are there, <br>\n",
    "\n",
    "BUILDINGKEY: Building id\t<br>\n",
    "FLOORKEY: floor id<br>\n",
    "FLOORNAME: floor name<br>\n",
    "NURSEKEY: Ward id<br>\n",
    "NURSENAME: Ward Name<br>\n",
    "ROOMKEY: Room id <br>\n",
    "ROOMNAME: Room Name <br>\n",
    "BEDKEY: Bed id<br>\n",
    "BEDNAME: Bed name<br>\n",
    "BEDSTATUS: Bed status<br>\n",
    "<br>\n",
    "### Task\n",
    "1. Get the Count of beds in each ward. <br>\n",
    "2. Get the count of bed in each room.<br>\n",
    "3. Get the count of the bed under each status.<br>\n",
    "4. Calculate the overall occupancy percentage (total occupied / total bed).<br>\n",
    "5. Calculate occupancy for each ward.<br>\n",
    "6. Calculate occupancy for each room.<br>\n",
    "7. Calculate count of bed with all the different bed statuses for each ward.<br>\n",
    "8. Calculate count of bed with all the different bed statuses for each room.<br>\n",
    "\n",
    "### Note\n",
    "* In Room Name ignore the Room <number> part.<br>\n",
    "* Preferred editor Jupyter Notebook/ Google Colab Notebook<br>\n",
    "\n"
   ]
  },
  {
   "cell_type": "code",
   "execution_count": 1,
   "id": "0db5a0ab-b139-4be5-a57b-35b93a4b9957",
   "metadata": {},
   "outputs": [],
   "source": [
    "# questions?\n",
    "# 1. is NURSEKEY and NURSENAME has one-to-one-relationship?\n",
    "# 2. is ROOMKEY and ROOMNAME has one-to-one-relationship?\n",
    "# 3. is BEDKEY and BEDNAME has one-to-one-relationship?\n",
    "# 4. is the bed status `Occupied Discharge` is a single value?\n"
   ]
  },
  {
   "cell_type": "code",
   "execution_count": 2,
   "id": "bad6466f-0f31-442a-9db5-3d19aeb5c4df",
   "metadata": {},
   "outputs": [],
   "source": [
    "# Task is solved considering, all the answer for each questions is \"Yes\""
   ]
  },
  {
   "cell_type": "markdown",
   "id": "c77b2a56-e7b4-4d41-a5a9-10f9c0314ce0",
   "metadata": {},
   "source": [
    "##  Observations"
   ]
  },
  {
   "cell_type": "code",
   "execution_count": 3,
   "id": "0e5552ef-c500-4419-b429-6d3b0b0a6ce8",
   "metadata": {},
   "outputs": [
    {
     "data": {
      "text/html": [
       "<div>\n",
       "<style scoped>\n",
       "    .dataframe tbody tr th:only-of-type {\n",
       "        vertical-align: middle;\n",
       "    }\n",
       "\n",
       "    .dataframe tbody tr th {\n",
       "        vertical-align: top;\n",
       "    }\n",
       "\n",
       "    .dataframe thead th {\n",
       "        text-align: right;\n",
       "    }\n",
       "</style>\n",
       "<table border=\"1\" class=\"dataframe\">\n",
       "  <thead>\n",
       "    <tr style=\"text-align: right;\">\n",
       "      <th></th>\n",
       "      <th>BUILDINGKEY</th>\n",
       "      <th>FLOORKEY</th>\n",
       "      <th>FLOORNAME</th>\n",
       "      <th>NURSEKEY</th>\n",
       "      <th>NURSENAME</th>\n",
       "      <th>ROOMKEY</th>\n",
       "      <th>ROOMNAME</th>\n",
       "      <th>BEDKEY</th>\n",
       "      <th>BEDNAME</th>\n",
       "      <th>BEDSTATUS</th>\n",
       "    </tr>\n",
       "  </thead>\n",
       "  <tbody>\n",
       "    <tr>\n",
       "      <th>0</th>\n",
       "      <td>5.0</td>\n",
       "      <td>9.0</td>\n",
       "      <td>First Floor NT</td>\n",
       "      <td>00:00.0</td>\n",
       "      <td>Daycare Surgery</td>\n",
       "      <td>33.0</td>\n",
       "      <td>Daycare NT (Day Care)</td>\n",
       "      <td>34.0</td>\n",
       "      <td>101-1</td>\n",
       "      <td>Occupied Discharge</td>\n",
       "    </tr>\n",
       "    <tr>\n",
       "      <th>1</th>\n",
       "      <td>5.0</td>\n",
       "      <td>9.0</td>\n",
       "      <td>First Floor NT</td>\n",
       "      <td>00:00.0</td>\n",
       "      <td>Daycare Surgery</td>\n",
       "      <td>33.0</td>\n",
       "      <td>Daycare NT (Day Care)</td>\n",
       "      <td>35.0</td>\n",
       "      <td>101-1P</td>\n",
       "      <td>Occupied Discharge</td>\n",
       "    </tr>\n",
       "    <tr>\n",
       "      <th>2</th>\n",
       "      <td>5.0</td>\n",
       "      <td>9.0</td>\n",
       "      <td>First Floor NT</td>\n",
       "      <td>00:00.0</td>\n",
       "      <td>Daycare Surgery</td>\n",
       "      <td>33.0</td>\n",
       "      <td>Daycare NT (Day Care)</td>\n",
       "      <td>36.0</td>\n",
       "      <td>101-2</td>\n",
       "      <td>Vacant Dirty</td>\n",
       "    </tr>\n",
       "    <tr>\n",
       "      <th>3</th>\n",
       "      <td>5.0</td>\n",
       "      <td>9.0</td>\n",
       "      <td>First Floor NT</td>\n",
       "      <td>00:00.0</td>\n",
       "      <td>Daycare Surgery</td>\n",
       "      <td>33.0</td>\n",
       "      <td>Daycare NT (Day Care)</td>\n",
       "      <td>37.0</td>\n",
       "      <td>101-2P</td>\n",
       "      <td>Vacant Dirty</td>\n",
       "    </tr>\n",
       "    <tr>\n",
       "      <th>4</th>\n",
       "      <td>5.0</td>\n",
       "      <td>9.0</td>\n",
       "      <td>First Floor NT</td>\n",
       "      <td>00:00.0</td>\n",
       "      <td>Daycare Surgery</td>\n",
       "      <td>33.0</td>\n",
       "      <td>Daycare NT (Day Care)</td>\n",
       "      <td>38.0</td>\n",
       "      <td>101-3</td>\n",
       "      <td>Vacant Dirty</td>\n",
       "    </tr>\n",
       "    <tr>\n",
       "      <th>...</th>\n",
       "      <td>...</td>\n",
       "      <td>...</td>\n",
       "      <td>...</td>\n",
       "      <td>...</td>\n",
       "      <td>...</td>\n",
       "      <td>...</td>\n",
       "      <td>...</td>\n",
       "      <td>...</td>\n",
       "      <td>...</td>\n",
       "      <td>...</td>\n",
       "    </tr>\n",
       "    <tr>\n",
       "      <th>1095</th>\n",
       "      <td>NaN</td>\n",
       "      <td>NaN</td>\n",
       "      <td>NaN</td>\n",
       "      <td>NaN</td>\n",
       "      <td>NaN</td>\n",
       "      <td>NaN</td>\n",
       "      <td>NaN</td>\n",
       "      <td>NaN</td>\n",
       "      <td>NaN</td>\n",
       "      <td>NaN</td>\n",
       "    </tr>\n",
       "    <tr>\n",
       "      <th>1096</th>\n",
       "      <td>NaN</td>\n",
       "      <td>NaN</td>\n",
       "      <td>NaN</td>\n",
       "      <td>NaN</td>\n",
       "      <td>NaN</td>\n",
       "      <td>NaN</td>\n",
       "      <td>NaN</td>\n",
       "      <td>NaN</td>\n",
       "      <td>NaN</td>\n",
       "      <td>NaN</td>\n",
       "    </tr>\n",
       "    <tr>\n",
       "      <th>1097</th>\n",
       "      <td>NaN</td>\n",
       "      <td>NaN</td>\n",
       "      <td>NaN</td>\n",
       "      <td>NaN</td>\n",
       "      <td>NaN</td>\n",
       "      <td>NaN</td>\n",
       "      <td>NaN</td>\n",
       "      <td>NaN</td>\n",
       "      <td>NaN</td>\n",
       "      <td>NaN</td>\n",
       "    </tr>\n",
       "    <tr>\n",
       "      <th>1098</th>\n",
       "      <td>NaN</td>\n",
       "      <td>NaN</td>\n",
       "      <td>NaN</td>\n",
       "      <td>NaN</td>\n",
       "      <td>NaN</td>\n",
       "      <td>NaN</td>\n",
       "      <td>NaN</td>\n",
       "      <td>NaN</td>\n",
       "      <td>NaN</td>\n",
       "      <td>NaN</td>\n",
       "    </tr>\n",
       "    <tr>\n",
       "      <th>1099</th>\n",
       "      <td>NaN</td>\n",
       "      <td>NaN</td>\n",
       "      <td>NaN</td>\n",
       "      <td>NaN</td>\n",
       "      <td>NaN</td>\n",
       "      <td>NaN</td>\n",
       "      <td>NaN</td>\n",
       "      <td>NaN</td>\n",
       "      <td>NaN</td>\n",
       "      <td>NaN</td>\n",
       "    </tr>\n",
       "  </tbody>\n",
       "</table>\n",
       "<p>1100 rows × 10 columns</p>\n",
       "</div>"
      ],
      "text/plain": [
       "      BUILDINGKEY  FLOORKEY       FLOORNAME NURSEKEY        NURSENAME  \\\n",
       "0             5.0       9.0  First Floor NT  00:00.0  Daycare Surgery   \n",
       "1             5.0       9.0  First Floor NT  00:00.0  Daycare Surgery   \n",
       "2             5.0       9.0  First Floor NT  00:00.0  Daycare Surgery   \n",
       "3             5.0       9.0  First Floor NT  00:00.0  Daycare Surgery   \n",
       "4             5.0       9.0  First Floor NT  00:00.0  Daycare Surgery   \n",
       "...           ...       ...             ...      ...              ...   \n",
       "1095          NaN       NaN             NaN      NaN              NaN   \n",
       "1096          NaN       NaN             NaN      NaN              NaN   \n",
       "1097          NaN       NaN             NaN      NaN              NaN   \n",
       "1098          NaN       NaN             NaN      NaN              NaN   \n",
       "1099          NaN       NaN             NaN      NaN              NaN   \n",
       "\n",
       "      ROOMKEY               ROOMNAME  BEDKEY BEDNAME           BEDSTATUS  \n",
       "0        33.0  Daycare NT (Day Care)    34.0   101-1  Occupied Discharge  \n",
       "1        33.0  Daycare NT (Day Care)    35.0  101-1P  Occupied Discharge  \n",
       "2        33.0  Daycare NT (Day Care)    36.0   101-2        Vacant Dirty  \n",
       "3        33.0  Daycare NT (Day Care)    37.0  101-2P        Vacant Dirty  \n",
       "4        33.0  Daycare NT (Day Care)    38.0   101-3        Vacant Dirty  \n",
       "...       ...                    ...     ...     ...                 ...  \n",
       "1095      NaN                    NaN     NaN     NaN                 NaN  \n",
       "1096      NaN                    NaN     NaN     NaN                 NaN  \n",
       "1097      NaN                    NaN     NaN     NaN                 NaN  \n",
       "1098      NaN                    NaN     NaN     NaN                 NaN  \n",
       "1099      NaN                    NaN     NaN     NaN                 NaN  \n",
       "\n",
       "[1100 rows x 10 columns]"
      ]
     },
     "execution_count": 3,
     "metadata": {},
     "output_type": "execute_result"
    }
   ],
   "source": [
    "# import dataset and perform clearning\n",
    "import pandas as pd\n",
    "\n",
    "def prepare_and_load_data(filepath):\n",
    "    df = pd.read_csv(filepath)\n",
    "    return df\n",
    "\n",
    "filepath=\"dataset.csv\"\n",
    "df = prepare_and_load_data(filepath)\n",
    "df"
   ]
  },
  {
   "cell_type": "code",
   "execution_count": 4,
   "id": "6c756b4d-419b-4e8a-90e3-ed9fe64aa7e1",
   "metadata": {},
   "outputs": [
    {
     "data": {
      "text/plain": [
       "Index(['BUILDINGKEY', 'FLOORKEY', 'FLOORNAME', 'NURSEKEY', 'NURSENAME',\n",
       "       'ROOMKEY', 'ROOMNAME', 'BEDKEY', 'BEDNAME', 'BEDSTATUS'],\n",
       "      dtype='object')"
      ]
     },
     "execution_count": 4,
     "metadata": {},
     "output_type": "execute_result"
    }
   ],
   "source": [
    "df.columns"
   ]
  },
  {
   "cell_type": "code",
   "execution_count": 5,
   "id": "dab23fef-e03b-46ec-a4ce-83edbd5c7c7a",
   "metadata": {},
   "outputs": [
    {
     "data": {
      "text/plain": [
       "BUILDINGKEY      3\n",
       "FLOORKEY        13\n",
       "FLOORNAME       13\n",
       "NURSEKEY        27\n",
       "NURSENAME       26\n",
       "ROOMKEY        278\n",
       "ROOMNAME       275\n",
       "BEDKEY         685\n",
       "BEDNAME        682\n",
       "BEDSTATUS        6\n",
       "dtype: int64"
      ]
     },
     "execution_count": 5,
     "metadata": {},
     "output_type": "execute_result"
    }
   ],
   "source": [
    "# Number of Unique values in each columns\n",
    "df.nunique()"
   ]
  },
  {
   "cell_type": "code",
   "execution_count": 6,
   "id": "0346291a-b42a-466c-b32f-f445cf4c4cb2",
   "metadata": {},
   "outputs": [
    {
     "data": {
      "text/plain": [
       "NURSENAME\n",
       "Daycare Surgery    2\n",
       "NT ICU             2\n",
       "NT Ward 2D         2\n",
       "Name: NURSEKEY, dtype: int64"
      ]
     },
     "execution_count": 6,
     "metadata": {},
     "output_type": "execute_result"
    }
   ],
   "source": [
    "# why NURSEKEY count and NURSERNAME count is different.\n",
    "rf = df.groupby('NURSENAME').NURSEKEY.nunique()\n",
    "inconsistent_nursenames = rf[rf > 1]\n",
    "inconsistent_nursenames"
   ]
  },
  {
   "cell_type": "code",
   "execution_count": 7,
   "id": "6e2bbc94-c1b3-4208-b24f-f9ece3e3de2b",
   "metadata": {},
   "outputs": [
    {
     "name": "stdout",
     "output_type": "stream",
     "text": [
      "    NURSEKEY NURSENAME\n",
      "25   00:00.0    NT ICU\n",
      "26   00:00.0    NT ICU\n",
      "27   00:00.0    NT ICU\n",
      "28   00:00.0    NT ICU\n",
      "29   00:00.0    NT ICU\n",
      "30   00:00.0    NT ICU\n",
      "31   00:00.0    NT ICU\n",
      "32   00:00.0    NT ICU\n",
      "710       59    NT ICU\n",
      "711       59    NT ICU\n",
      "712       59    NT ICU\n",
      "713       59    NT ICU\n",
      "714       59    NT ICU\n",
      "715       59    NT ICU\n",
      "716       59    NT ICU\n",
      "717       59    NT ICU\n"
     ]
    }
   ],
   "source": [
    "nurse_names = [\"NT ICU\"] #  \"Daycare Surgery\", \"NT ICU\", \"NT Ward 2D\"\n",
    "print(df[df[\"NURSENAME\"].isin(nurse_names)][[\"NURSEKEY\", \"NURSENAME\"]])\n",
    "\n",
    "\n",
    "# observations\n",
    "# 'Daycare Surgery' is having 00:00.0 and 32 (NURSEKEY)\n",
    "# 'NT ICU' is having 00:00.0 and 59 (NURSEKEY)\n",
    "# 'NT Ward 2D' is having 00:00.0 and 74 (NURSEKEY)"
   ]
  },
  {
   "cell_type": "code",
   "execution_count": 8,
   "id": "9b393178-68f2-4799-bc27-84dabc613554",
   "metadata": {
    "scrolled": true
   },
   "outputs": [
    {
     "data": {
      "text/plain": [
       "ROOMNAME\n",
       "Room 522 (Double Bed)    2\n",
       "Room 523 (Double Bed)    2\n",
       "Room 524 (Double Bed)    2\n",
       "Name: ROOMKEY, dtype: int64"
      ]
     },
     "execution_count": 8,
     "metadata": {},
     "output_type": "execute_result"
    }
   ],
   "source": [
    "# why ROOMKEY count and ROOMNAME count is different?\n",
    "rf = df.groupby('ROOMNAME').ROOMKEY.nunique()\n",
    "inconsistent_roomnames = rf[rf > 1]\n",
    "inconsistent_roomnames"
   ]
  },
  {
   "cell_type": "code",
   "execution_count": 9,
   "id": "3382833f-8c50-4230-8ed7-4ea3fc3ef66d",
   "metadata": {},
   "outputs": [
    {
     "name": "stdout",
     "output_type": "stream",
     "text": [
      "     BUILDINGKEY  FLOORKEY  ROOMKEY               ROOMNAME\n",
      "615          6.0     461.0    811.0  Room 522 (Double Bed)\n",
      "616          6.0     461.0    812.0  Room 523 (Double Bed)\n",
      "617          6.0     461.0    813.0  Room 524 (Double Bed)\n",
      "619          6.0     461.0   1639.0  Room 522 (Double Bed)\n",
      "620          6.0     461.0   1639.0  Room 522 (Double Bed)\n",
      "621          6.0     461.0   1639.0  Room 522 (Double Bed)\n",
      "622          6.0     461.0   1640.0  Room 523 (Double Bed)\n",
      "623          6.0     461.0   1640.0  Room 523 (Double Bed)\n",
      "624          6.0     461.0   1640.0  Room 523 (Double Bed)\n",
      "625          6.0     461.0   1641.0  Room 524 (Double Bed)\n",
      "626          6.0     461.0   1641.0  Room 524 (Double Bed)\n",
      "627          6.0     461.0   1641.0  Room 524 (Double Bed)\n"
     ]
    }
   ],
   "source": [
    "room_list = [\"Room 522 (Double Bed)\", \"Room 523 (Double Bed)\", \"Room 524 (Double Bed)\"]\n",
    "print(df[df[\"ROOMNAME\"].isin(room_list)][[\"BUILDINGKEY\", \"FLOORKEY\", \"ROOMKEY\", \"ROOMNAME\"]])\n",
    "\n",
    "# OBSERVATIONS [ROOMNAME - ROOMKEY]\n",
    "# 1. room 522 (double bed) - (811, 1639)\n",
    "# 2. room 523 (double bed) - (812, 1640)\n",
    "# 1. room 522 (double bed) - (813, 1641)"
   ]
  },
  {
   "cell_type": "code",
   "execution_count": 10,
   "id": "8def7c26-4d46-4230-8165-33d7d8e81a7c",
   "metadata": {},
   "outputs": [
    {
     "name": "stdout",
     "output_type": "stream",
     "text": [
      "BEDNAME\n",
      "522-1E    2\n",
      "523-1E    2\n",
      "524-1E    2\n",
      "Name: BEDKEY, dtype: int64\n"
     ]
    }
   ],
   "source": [
    "# why BEDKEY count and BEDNAME count is different.\n",
    "rf = df.groupby('BEDNAME').BEDKEY.nunique()\n",
    "inconsistent_bednames = rf[rf > 1]\n",
    "print(inconsistent_bednames)"
   ]
  },
  {
   "cell_type": "code",
   "execution_count": 11,
   "id": "6fd413ac-7955-4894-a8c9-9cbc36cdee2d",
   "metadata": {},
   "outputs": [
    {
     "name": "stdout",
     "output_type": "stream",
     "text": [
      "     BEDKEY BEDNAME\n",
      "615  1522.0  522-1E\n",
      "616  1523.0  523-1E\n",
      "617  1524.0  524-1E\n",
      "621  1656.0  522-1E\n",
      "624  1659.0  523-1E\n",
      "627  1662.0  524-1E\n"
     ]
    }
   ],
   "source": [
    "# check these duplicate values\n",
    "bed_list = [\"522-1E\", \"523-1E\", \"524-1E\"]\n",
    "print(df[df[\"BEDNAME\"].isin(bed_list)][[\"BEDKEY\", \"BEDNAME\"]])\n",
    "\n",
    "\n",
    "# OBSERVATIONS [BEDNAME - BEDKEY]\n",
    "# 1. 522-1E - (1522, 1656)\n",
    "# 2.523-1E - (1523, 1659)\n",
    "# 3. 524-1E - (1524, 1662)"
   ]
  },
  {
   "cell_type": "code",
   "execution_count": null,
   "id": "000ed96a-52e8-4bf6-8853-a04a607c8aad",
   "metadata": {},
   "outputs": [],
   "source": []
  },
  {
   "cell_type": "code",
   "execution_count": null,
   "id": "d17b5c29-fbbf-4de5-a1e2-c634aaae47b6",
   "metadata": {},
   "outputs": [],
   "source": []
  },
  {
   "cell_type": "markdown",
   "id": "fe04f387-48fd-4d92-bf59-c244dcdadf36",
   "metadata": {},
   "source": [
    "## Cleaning of Data"
   ]
  },
  {
   "cell_type": "markdown",
   "id": "9dc2a487-c6a1-4592-ba9e-e20416ce74e1",
   "metadata": {},
   "source": [
    "#### Drop Null values from dataframe (inplace)"
   ]
  },
  {
   "cell_type": "code",
   "execution_count": 12,
   "id": "5f5045da-ff35-419f-a9d6-f8241970f75b",
   "metadata": {},
   "outputs": [],
   "source": [
    "# drop the null rows of either NURSENAME, ROOMNAME, BEDNAME\n",
    "df = df.dropna(subset=[\"NURSENAME\", \"ROOMNAME\", \"BEDNAME\"])"
   ]
  },
  {
   "cell_type": "markdown",
   "id": "7b26deec-be15-4493-8e6b-ddd00080a6fd",
   "metadata": {},
   "source": [
    "#### CORRECT the data of NURSENAME vs NURSEKEY\n",
    "\n",
    "<b> observations for NURSEKEY and NURSENAME </b>\n",
    "1. 'Daycare Surgery' is having 00:00.0 and 32 (NURSEKEY) <br>\n",
    "2. 'NT ICU' is having 00:00.0 and 59 (NURSEKEY) <br>\n",
    "3. 'NT Ward 2D' is having 00:00.0 and 74 (NURSEKEY) <br>\n",
    "   \n",
    "<b> observations for ROOMKEY and ROOMNAME </b>\n",
    "1. room 522 (double bed) - (811, 1639) <br>\n",
    "2. room 523 (double bed) - (812, 1640) <br>\n",
    "3. room 522 (double bed) - (813, 1641) <br>\n",
    "\n",
    "<b> observations for BEDKEY and BEDNAME </b>\n",
    "1. 522-1E - (1522, 1656) <br>\n",
    "2. 523-1E - (1523, 1659) <br>\n",
    "3. 524-1E - (1524, 1662) <br>"
   ]
  },
  {
   "cell_type": "code",
   "execution_count": 13,
   "id": "e1af2536-f9a2-4052-b0c8-621ab379cb70",
   "metadata": {},
   "outputs": [],
   "source": [
    "def update_column_values(df, filter_key, filter_value, update_column, updated_value):\n",
    "    df.loc[df[filter_key] == filter_value, update_column] = updated_value\n",
    "    return df"
   ]
  },
  {
   "cell_type": "code",
   "execution_count": 14,
   "id": "eb083697-6fb5-4f8a-b0fd-2fc73512bd49",
   "metadata": {},
   "outputs": [],
   "source": [
    "# update nursekey and nursename issue\n",
    "df = update_column_values(df, \"NURSENAME\", \"Daycare Surgery\", \"NURSEKEY\", 32)\n",
    "df = update_column_values(df, \"NURSENAME\", \"NT ICU\", \"NURSEKEY\", 59)\n",
    "df = update_column_values(df, \"NURSENAME\", \"NT Ward 2D\", \"NURSEKEY\", 74)"
   ]
  },
  {
   "cell_type": "code",
   "execution_count": 15,
   "id": "8b3ab589-682c-4203-8e56-543de80f7f6f",
   "metadata": {},
   "outputs": [],
   "source": [
    "# update ROOMKEY and ROOMNAME issue\n",
    "df = update_column_values(df, \"ROOMNAME\", \"Room 522 (Double Bed)\", \"ROOMKEY\", 811)\n",
    "df = update_column_values(df, \"ROOMNAME\", \"Room 523 (Double Bed)\", \"ROOMKEY\", 812)\n",
    "df = update_column_values(df, \"ROOMNAME\", \"Room 524 (Double Bed)\", \"ROOMKEY\", 813)"
   ]
  },
  {
   "cell_type": "code",
   "execution_count": 16,
   "id": "c2a7fe4f-ac3c-496d-a994-5bdc74802869",
   "metadata": {},
   "outputs": [],
   "source": [
    "#update bedkey vs bedname issue\n",
    "df = update_column_values(df, \"BEDNAME\", \"522-1E\", \"BEDKEY\", 1522)\n",
    "df = update_column_values(df, \"BEDNAME\", \"523-1E\", \"BEDKEY\", 1523)\n",
    "df = update_column_values(df, \"BEDNAME\", \"524-1E\", \"BEDKEY\", 1524)"
   ]
  },
  {
   "cell_type": "code",
   "execution_count": 17,
   "id": "d9d9a596-67af-449d-815c-9cb0d08b794a",
   "metadata": {},
   "outputs": [
    {
     "data": {
      "text/plain": [
       "BUILDINGKEY      3\n",
       "FLOORKEY        13\n",
       "FLOORNAME       13\n",
       "NURSEKEY        26\n",
       "NURSENAME       26\n",
       "ROOMKEY        275\n",
       "ROOMNAME       275\n",
       "BEDKEY         682\n",
       "BEDNAME        682\n",
       "BEDSTATUS        6\n",
       "dtype: int64"
      ]
     },
     "execution_count": 17,
     "metadata": {},
     "output_type": "execute_result"
    }
   ],
   "source": [
    "df.nunique()"
   ]
  },
  {
   "cell_type": "code",
   "execution_count": 18,
   "id": "76217937-b8d7-4286-8cc7-6ec50d8b6178",
   "metadata": {},
   "outputs": [],
   "source": [
    "# import re\n",
    "# def extract_bedtype_if_room(roomname):\n",
    "#     if not isinstance(roomname, str):\n",
    "#         return roomname  # Skip non-strings\n",
    "\n",
    "#     # Match if string starts with \"Room\" (any suffix)\n",
    "#     if roomname.strip().lower().startswith(\"room\"):\n",
    "#         # Extract what's inside parentheses\n",
    "#         match = re.search(r'\\((.*?)\\)', roomname)\n",
    "#         return match.group(1).strip() if match else \"\"\n",
    "#     else:\n",
    "#         return roomname\n",
    "        \n",
    "# # Remove Room Number from the ROOMNAME column\n",
    "# df.loc[:, \"ROOMNAME\"] = df[\"ROOMNAME\"].apply(extract_bedtype_if_room)\n",
    "# df.tail(10)      "
   ]
  },
  {
   "cell_type": "code",
   "execution_count": 19,
   "id": "b0226992-7bc7-4981-b043-d78d779c2d12",
   "metadata": {},
   "outputs": [],
   "source": [
    "# save another copy of this cleaned dataset\n",
    "# df.to_csv(\"cleaned_dataset.csv\", index=False)"
   ]
  },
  {
   "cell_type": "code",
   "execution_count": 20,
   "id": "e56c048b-f3c1-45dd-b894-f16e5ae6a715",
   "metadata": {},
   "outputs": [
    {
     "data": {
      "text/plain": [
       "BUILDINGKEY      3\n",
       "FLOORKEY        13\n",
       "FLOORNAME       13\n",
       "NURSEKEY        26\n",
       "NURSENAME       26\n",
       "ROOMKEY        275\n",
       "ROOMNAME       275\n",
       "BEDKEY         682\n",
       "BEDNAME        682\n",
       "BEDSTATUS        6\n",
       "dtype: int64"
      ]
     },
     "execution_count": 20,
     "metadata": {},
     "output_type": "execute_result"
    }
   ],
   "source": [
    "df.nunique()"
   ]
  },
  {
   "cell_type": "markdown",
   "id": "41f30004-cbaf-433d-ac58-52625b014d79",
   "metadata": {},
   "source": [
    "# Tasks"
   ]
  },
  {
   "cell_type": "code",
   "execution_count": 21,
   "id": "32ea481f-4e7f-496b-b7b6-a5e8354df8a4",
   "metadata": {},
   "outputs": [],
   "source": [
    "import matplotlib.pyplot as plt\n",
    "import seaborn as sns\n",
    "sns.set(style=\"whitegrid\")"
   ]
  },
  {
   "cell_type": "markdown",
   "id": "13fff6de-e81c-4b82-b983-60913029f085",
   "metadata": {},
   "source": [
    "### 1. Get the Count of beds in each ward."
   ]
  },
  {
   "cell_type": "code",
   "execution_count": 22,
   "id": "4b0c7a05-5dec-4d8a-a208-32012e1b7c73",
   "metadata": {},
   "outputs": [
    {
     "data": {
      "text/plain": [
       "NURSENAME\n",
       "Daycare Endoscopy                32\n",
       "Daycare Haemato & Onco Adult     35\n",
       "Daycare Haemato & Onco Paed      11\n",
       "Daycare Imaging                  10\n",
       "Daycare Surgery                  50\n",
       "NT Admission Lounge              28\n",
       "NT ICU                           16\n",
       "NT Labour Room                   42\n",
       "NT NICU                           8\n",
       "NT Nursery                      118\n",
       "NT Paed HDU                      16\n",
       "NT Ward 2D                      110\n",
       "NT Ward 3D                       78\n",
       "NT Ward 4D                       76\n",
       "NT Ward 5C                       50\n",
       "NT Ward 5D                       41\n",
       "ST CCU                           11\n",
       "ST HDU                            6\n",
       "ST ICU                            9\n",
       "ST Ward 2A                       30\n",
       "ST Ward 3A                       31\n",
       "ST Ward 3B                       45\n",
       "ST Ward 4A                       45\n",
       "ST Ward 4B                       33\n",
       "ST Ward 5A                       35\n",
       "ST Ward 5B                       26\n",
       "Name: BEDNAME, dtype: int64"
      ]
     },
     "execution_count": 22,
     "metadata": {},
     "output_type": "execute_result"
    }
   ],
   "source": [
    "def count_beds_per_ward(df):\n",
    "    return df.groupby('NURSENAME').BEDNAME.count()\n",
    "count_beds_per_ward_data = count_beds_per_ward(df)\n",
    "count_beds_per_ward_data"
   ]
  },
  {
   "cell_type": "code",
   "execution_count": 23,
   "id": "e39142aa-5ba1-4773-ac53-e35382c49498",
   "metadata": {},
   "outputs": [
    {
     "data": {
      "image/png": "[encoded data removed]",
      "text/plain": [
       "<Figure size 1000x500 with 1 Axes>"
      ]
     },
     "metadata": {},
     "output_type": "display_data"
    }
   ],
   "source": [
    "def plot_beds_per_ward(data):\n",
    "    data.plot(kind='bar', figsize=(10, 5), title='Bed Count per Ward')\n",
    "    plt.ylabel(\"Number of Beds\")\n",
    "    plt.xlabel(\"Ward\")\n",
    "    plt.show()\n",
    "plot_beds_per_ward(count_beds_per_ward_data)"
   ]
  },
  {
   "cell_type": "markdown",
   "id": "6ef48e3f-9241-4536-adca-3ea27bc5a661",
   "metadata": {},
   "source": [
    "### 2. get the count of bed in each room"
   ]
  },
  {
   "cell_type": "code",
   "execution_count": 43,
   "id": "8b263b46-946b-4002-ac7f-a64f06025a40",
   "metadata": {},
   "outputs": [
    {
     "data": {
      "text/plain": [
       "ROOMNAME\n",
       "CCU Room 201 ST (ICU/CCU)                                          11\n",
       "Daycare NT (Day Care)                                              50\n",
       "Haematology & Oncology Daycare Adult (Day Care Chemo)              35\n",
       "Haematology & Oncology Daycare Paeds (Day Care Chemo (Private))    11\n",
       "ICU NT  (ICU/CCU)                                                  16\n",
       "Name: BEDNAME, dtype: int64"
      ]
     },
     "execution_count": 43,
     "metadata": {},
     "output_type": "execute_result"
    }
   ],
   "source": [
    "def count_beds_per_room(df):\n",
    "    return df.groupby('ROOMNAME').BEDNAME.count()\n",
    "count_beds_per_room_data = count_beds_per_room(df)\n",
    "count_beds_per_room_data.head()"
   ]
  },
  {
   "cell_type": "code",
   "execution_count": 44,
   "id": "9776cc81-00d1-4c1a-8c65-50b2004b9910",
   "metadata": {},
   "outputs": [
    {
     "data": {
      "image/png": "[encoded data removed]",
      "text/plain": [
       "<Figure size 1200x600 with 1 Axes>"
      ]
     },
     "metadata": {},
     "output_type": "display_data"
    }
   ],
   "source": [
    "def plot_beds_per_room(data):\n",
    "    data = data.sort_values(ascending=False).head(20)\n",
    "    data.plot(kind='bar', figsize=(12, 6), title='Top 20 Rooms by Bed Count')\n",
    "    plt.ylabel(\"Number of Beds\")\n",
    "    plt.xlabel(\"Room\")\n",
    "    plt.show()\n",
    "plot_beds_per_room(count_beds_per_room_data)"
   ]
  },
  {
   "cell_type": "markdown",
   "id": "bb3cb7a3-b67a-4c84-8f72-d3382183db64",
   "metadata": {},
   "source": [
    "### 3. Get the count of the bed under each status"
   ]
  },
  {
   "cell_type": "code",
   "execution_count": 26,
   "id": "aa7b5906-8aac-4d40-a141-1097a63b5e12",
   "metadata": {},
   "outputs": [
    {
     "data": {
      "text/plain": [
       "BEDSTATUS\n",
       "Available             527\n",
       "Vacant Dirty          210\n",
       "Occupied(Female)      104\n",
       "Occupied(Male)         90\n",
       "Occupied Discharge     59\n",
       "Blocked                 2\n",
       "Name: count, dtype: int64"
      ]
     },
     "execution_count": 26,
     "metadata": {},
     "output_type": "execute_result"
    }
   ],
   "source": [
    "# 3. Get the count of the bed under each status.\n",
    "def count_beds_by_each_bed_status(df):\n",
    "    return df.BEDSTATUS.value_counts()\n",
    "    \n",
    "count_beds_by_each_bed_status_data = count_beds_by_each_bed_status(df)\n",
    "count_beds_by_each_bed_status_data"
   ]
  },
  {
   "cell_type": "code",
   "execution_count": 27,
   "id": "df4d3fd9-33b5-4d32-8685-08738f81f581",
   "metadata": {},
   "outputs": [
    {
     "data": {
      "image/png": "[encoded data removed]",
      "text/plain": [
       "<Figure size 1200x600 with 1 Axes>"
      ]
     },
     "metadata": {},
     "output_type": "display_data"
    }
   ],
   "source": [
    "def plot_beds_by_bed_status(data):\n",
    "    data.plot(kind=\"bar\", figsize=(12, 6), title=\"Bed Count by Status\")\n",
    "    plt.xlabel(\"Bed Status\")\n",
    "    plt.ylabel(\"Counts\")\n",
    "    plt.show()\n",
    "plot_beds_by_bed_status(count_beds_by_each_bed_status_data)"
   ]
  },
  {
   "cell_type": "markdown",
   "id": "1f7b7a39-bff1-4c98-b788-043578a3b4bf",
   "metadata": {},
   "source": [
    "### 4. Calculate the overall occupancy percentage (total occupied / total bed)"
   ]
  },
  {
   "cell_type": "code",
   "execution_count": 57,
   "id": "0ee1125f-b02f-41fd-b3d9-7f733f34132b",
   "metadata": {},
   "outputs": [
    {
     "data": {
      "text/plain": [
       "25.504032258064516"
      ]
     },
     "execution_count": 57,
     "metadata": {},
     "output_type": "execute_result"
    }
   ],
   "source": [
    "def overall_occupancy(df):\n",
    "    total_bed_count = len(df)\n",
    "    occupied_bed_count = len(df[df[\"BEDSTATUS\"].str.contains(\"Occupied\", case=False)])\n",
    "    occupancy_percent = occupied_bed_count * 100 / total_bed_count\n",
    "    return occupancy_percent\n",
    "overall_occupancy(df)"
   ]
  },
  {
   "cell_type": "code",
   "execution_count": 55,
   "id": "a16a11e5-501a-4f49-8112-0cbd4242edbd",
   "metadata": {},
   "outputs": [
    {
     "data": {
      "text/plain": [
       "BUILDINGKEY    992\n",
       "FLOORKEY       992\n",
       "FLOORNAME      992\n",
       "NURSEKEY       992\n",
       "NURSENAME      992\n",
       "ROOMKEY        992\n",
       "ROOMNAME       992\n",
       "BEDKEY         992\n",
       "BEDNAME        992\n",
       "BEDSTATUS      992\n",
       "dtype: int64"
      ]
     },
     "execution_count": 55,
     "metadata": {},
     "output_type": "execute_result"
    }
   ],
   "source": [
    "df.count()"
   ]
  },
  {
   "cell_type": "markdown",
   "id": "ec7320ea-23ed-419f-a2ee-d569ee06a50d",
   "metadata": {},
   "source": [
    "### 5. Calculate occupancy for each ward"
   ]
  },
  {
   "cell_type": "code",
   "execution_count": 60,
   "id": "93a51194-f8f5-469a-9897-bf475396640a",
   "metadata": {},
   "outputs": [
    {
     "name": "stdout",
     "output_type": "stream",
     "text": [
      "                       NURSENAME           BEDSTATUS  BEDNAME\n",
      "1              Daycare Endoscopy  Occupied Discharge        6\n",
      "4   Daycare Haemato & Onco Adult  Occupied Discharge        2\n",
      "11               Daycare Surgery  Occupied Discharge        4\n",
      "16                        NT ICU    Occupied(Female)        8\n",
      "17                        NT ICU      Occupied(Male)        2\n",
      "20                       NT NICU    Occupied(Female)        2\n",
      "21                       NT NICU      Occupied(Male)        2\n",
      "23                    NT Nursery      Occupied(Male)        2\n",
      "27                    NT Ward 2D  Occupied Discharge        2\n",
      "28                    NT Ward 2D    Occupied(Female)       12\n",
      "29                    NT Ward 2D      Occupied(Male)       18\n",
      "32                    NT Ward 3D  Occupied Discharge       20\n",
      "33                    NT Ward 3D    Occupied(Female)       22\n",
      "37                    NT Ward 4D  Occupied Discharge        6\n",
      "38                    NT Ward 4D    Occupied(Female)        4\n",
      "39                    NT Ward 4D      Occupied(Male)        2\n",
      "43                    NT Ward 5D  Occupied Discharge        2\n",
      "44                    NT Ward 5D    Occupied(Female)       17\n",
      "45                    NT Ward 5D      Occupied(Male)        9\n",
      "48                        ST CCU    Occupied(Female)        1\n",
      "49                        ST CCU      Occupied(Male)        6\n",
      "51                        ST HDU    Occupied(Female)        1\n",
      "52                        ST HDU      Occupied(Male)        3\n",
      "54                        ST ICU  Occupied Discharge        1\n",
      "55                        ST ICU      Occupied(Male)        4\n",
      "57                    ST Ward 2A  Occupied Discharge        4\n",
      "58                    ST Ward 2A    Occupied(Female)        4\n",
      "59                    ST Ward 2A      Occupied(Male)        9\n",
      "62                    ST Ward 3A  Occupied Discharge        7\n",
      "63                    ST Ward 3A    Occupied(Female)       13\n",
      "64                    ST Ward 3A      Occupied(Male)        7\n",
      "67                    ST Ward 3B  Occupied Discharge        3\n",
      "68                    ST Ward 3B      Occupied(Male)        2\n",
      "71                    ST Ward 4A  Occupied Discharge        1\n",
      "72                    ST Ward 4A    Occupied(Female)        3\n",
      "73                    ST Ward 4A      Occupied(Male)        8\n",
      "76                    ST Ward 4B  Occupied Discharge        1\n",
      "77                    ST Ward 4B    Occupied(Female)        1\n",
      "78                    ST Ward 4B      Occupied(Male)        1\n",
      "81                    ST Ward 5A    Occupied(Female)       12\n",
      "82                    ST Ward 5A      Occupied(Male)        8\n",
      "85                    ST Ward 5B    Occupied(Female)        4\n",
      "86                    ST Ward 5B      Occupied(Male)        7\n"
     ]
    },
    {
     "data": {
      "text/plain": [
       "NURSENAME\n",
       "Daycare Endoscopy                6\n",
       "Daycare Haemato & Onco Adult     2\n",
       "Daycare Surgery                  4\n",
       "NT ICU                          10\n",
       "NT NICU                          4\n",
       "NT Nursery                       2\n",
       "NT Ward 2D                      32\n",
       "NT Ward 3D                      42\n",
       "NT Ward 4D                      12\n",
       "NT Ward 5D                      28\n",
       "ST CCU                           7\n",
       "ST HDU                           4\n",
       "ST ICU                           5\n",
       "ST Ward 2A                      17\n",
       "ST Ward 3A                      27\n",
       "ST Ward 3B                       5\n",
       "ST Ward 4A                      12\n",
       "ST Ward 4B                       3\n",
       "ST Ward 5A                      20\n",
       "ST Ward 5B                      11\n",
       "Name: BEDNAME, dtype: int64"
      ]
     },
     "execution_count": 60,
     "metadata": {},
     "output_type": "execute_result"
    }
   ],
   "source": [
    "def occupancy_for_each_ward(df):\n",
    "    # Group by NURSEKEY and BEDSTATUS, and count BEDNAME\n",
    "    ward_status = df.groupby([\"NURSENAME\", \"BEDSTATUS\"])[\"BEDNAME\"].count()\n",
    "    ward_status = ward_status.reset_index()\n",
    "    \n",
    "    # Filter rows where BEDSTATUS contains 'Occupied'\n",
    "    occupied_only = ward_status[ward_status[\"BEDSTATUS\"].str.contains(\"Occupied\", case='False')]\n",
    "    \n",
    "    # Group again by NURSENAME to get total occupied beds per ward\n",
    "    occupied_bed_count_per_ward = occupied_only.groupby(\"NURSENAME\")[\"BEDNAME\"].sum()\n",
    "\n",
    "    return occupied_bed_count_per_ward\n",
    "occupancy_for_each_ward(df)"
   ]
  },
  {
   "cell_type": "markdown",
   "id": "3bf99ef5-2453-4916-b611-630543474280",
   "metadata": {},
   "source": [
    "### 6. Calculate occupancy for each room."
   ]
  },
  {
   "cell_type": "code",
   "execution_count": 62,
   "id": "bb6aeaa2-f898-4127-a365-389a66ba14ee",
   "metadata": {},
   "outputs": [
    {
     "name": "stdout",
     "output_type": "stream",
     "text": [
      "                      ROOMNAME           BEDSTATUS  BEDNAME\n",
      "0    CCU Room 201 ST (ICU/CCU)           Available        4\n",
      "1    CCU Room 201 ST (ICU/CCU)    Occupied(Female)        1\n",
      "2    CCU Room 201 ST (ICU/CCU)      Occupied(Male)        6\n",
      "3        Daycare NT (Day Care)           Available       12\n",
      "4        Daycare NT (Day Care)  Occupied Discharge        4\n",
      "..                         ...                 ...      ...\n",
      "365      Room 587 (Double Bed)    Occupied(Female)        1\n",
      "366      Room 587 (Double Bed)        Vacant Dirty        1\n",
      "367     Room 588 (Four Bedded)           Available        2\n",
      "368        Room G03 (Day Care)           Available        4\n",
      "369        Room G03 (Day Care)        Vacant Dirty        6\n",
      "\n",
      "[370 rows x 3 columns]\n"
     ]
    },
    {
     "data": {
      "text/plain": [
       "ROOMNAME\n",
       "CCU Room 201 ST (ICU/CCU)                                 7\n",
       "Daycare NT (Day Care)                                     4\n",
       "Haematology & Oncology Daycare Adult (Day Care Chemo)     2\n",
       "ICU NT  (ICU/CCU)                                        10\n",
       "ICU ST 1 (ICU/CCU)                                        5\n",
       "                                                         ..\n",
       "Room 582 (Single Bed)                                     2\n",
       "Room 584 (Four Bedded)                                    1\n",
       "Room 585 (Double Bed)                                     1\n",
       "Room 586 (Double Bed)                                     1\n",
       "Room 587 (Double Bed)                                     1\n",
       "Name: BEDNAME, Length: 145, dtype: int64"
      ]
     },
     "execution_count": 62,
     "metadata": {},
     "output_type": "execute_result"
    }
   ],
   "source": [
    "def occupancy_for_each_room(df):\n",
    "    # Group by ROOMNAME and BEDSTATUS, count BEDNAME\n",
    "    room_status = df.groupby([\"ROOMNAME\", \"BEDSTATUS\"])[\"BEDNAME\"].count().reset_index()\n",
    "    \n",
    "    # Filter only rows where BEDSTATUS contains \"Occupied\"\n",
    "    occupied_only = room_status[room_status[\"BEDSTATUS\"].str.contains(\"Occupied\", case=False)]\n",
    "    \n",
    "    # Group by ROOMNAME and sum the occupied bed counts\n",
    "    occupied_bed_count_per_room = occupied_only.groupby(\"ROOMNAME\")[\"BEDNAME\"].sum()\n",
    "    \n",
    "    return occupied_bed_count_per_room\n",
    "occupancy_for_each_room(df)"
   ]
  },
  {
   "cell_type": "code",
   "execution_count": null,
   "id": "f1dfb804-3883-4f74-b0b6-1c1359cf9c57",
   "metadata": {},
   "outputs": [],
   "source": []
  },
  {
   "cell_type": "markdown",
   "id": "9f46cf5c-6cd1-4051-8613-adac2cce636f",
   "metadata": {},
   "source": [
    "### 7. Calculate count of bed with all the different bed statuses for each ward."
   ]
  },
  {
   "cell_type": "code",
   "execution_count": 32,
   "id": "f074b2d7-f3f8-4ac0-8630-c370d27d7104",
   "metadata": {},
   "outputs": [
    {
     "data": {
      "text/html": [
       "<div>\n",
       "<style scoped>\n",
       "    .dataframe tbody tr th:only-of-type {\n",
       "        vertical-align: middle;\n",
       "    }\n",
       "\n",
       "    .dataframe tbody tr th {\n",
       "        vertical-align: top;\n",
       "    }\n",
       "\n",
       "    .dataframe thead th {\n",
       "        text-align: right;\n",
       "    }\n",
       "</style>\n",
       "<table border=\"1\" class=\"dataframe\">\n",
       "  <thead>\n",
       "    <tr style=\"text-align: right;\">\n",
       "      <th>BEDSTATUS</th>\n",
       "      <th>Available</th>\n",
       "      <th>Blocked</th>\n",
       "      <th>Occupied Discharge</th>\n",
       "      <th>Occupied(Female)</th>\n",
       "      <th>Occupied(Male)</th>\n",
       "      <th>Vacant Dirty</th>\n",
       "    </tr>\n",
       "    <tr>\n",
       "      <th>NURSENAME</th>\n",
       "      <th></th>\n",
       "      <th></th>\n",
       "      <th></th>\n",
       "      <th></th>\n",
       "      <th></th>\n",
       "      <th></th>\n",
       "    </tr>\n",
       "  </thead>\n",
       "  <tbody>\n",
       "    <tr>\n",
       "      <th>Daycare Endoscopy</th>\n",
       "      <td>16</td>\n",
       "      <td>0</td>\n",
       "      <td>6</td>\n",
       "      <td>0</td>\n",
       "      <td>0</td>\n",
       "      <td>10</td>\n",
       "    </tr>\n",
       "    <tr>\n",
       "      <th>Daycare Haemato &amp; Onco Adult</th>\n",
       "      <td>3</td>\n",
       "      <td>0</td>\n",
       "      <td>2</td>\n",
       "      <td>0</td>\n",
       "      <td>0</td>\n",
       "      <td>30</td>\n",
       "    </tr>\n",
       "    <tr>\n",
       "      <th>Daycare Haemato &amp; Onco Paed</th>\n",
       "      <td>2</td>\n",
       "      <td>0</td>\n",
       "      <td>0</td>\n",
       "      <td>0</td>\n",
       "      <td>0</td>\n",
       "      <td>9</td>\n",
       "    </tr>\n",
       "    <tr>\n",
       "      <th>Daycare Imaging</th>\n",
       "      <td>4</td>\n",
       "      <td>0</td>\n",
       "      <td>0</td>\n",
       "      <td>0</td>\n",
       "      <td>0</td>\n",
       "      <td>6</td>\n",
       "    </tr>\n",
       "    <tr>\n",
       "      <th>Daycare Surgery</th>\n",
       "      <td>12</td>\n",
       "      <td>0</td>\n",
       "      <td>4</td>\n",
       "      <td>0</td>\n",
       "      <td>0</td>\n",
       "      <td>34</td>\n",
       "    </tr>\n",
       "    <tr>\n",
       "      <th>NT Admission Lounge</th>\n",
       "      <td>26</td>\n",
       "      <td>0</td>\n",
       "      <td>0</td>\n",
       "      <td>0</td>\n",
       "      <td>0</td>\n",
       "      <td>2</td>\n",
       "    </tr>\n",
       "    <tr>\n",
       "      <th>NT ICU</th>\n",
       "      <td>6</td>\n",
       "      <td>0</td>\n",
       "      <td>0</td>\n",
       "      <td>8</td>\n",
       "      <td>2</td>\n",
       "      <td>0</td>\n",
       "    </tr>\n",
       "    <tr>\n",
       "      <th>NT Labour Room</th>\n",
       "      <td>42</td>\n",
       "      <td>0</td>\n",
       "      <td>0</td>\n",
       "      <td>0</td>\n",
       "      <td>0</td>\n",
       "      <td>0</td>\n",
       "    </tr>\n",
       "    <tr>\n",
       "      <th>NT NICU</th>\n",
       "      <td>4</td>\n",
       "      <td>0</td>\n",
       "      <td>0</td>\n",
       "      <td>2</td>\n",
       "      <td>2</td>\n",
       "      <td>0</td>\n",
       "    </tr>\n",
       "    <tr>\n",
       "      <th>NT Nursery</th>\n",
       "      <td>98</td>\n",
       "      <td>0</td>\n",
       "      <td>0</td>\n",
       "      <td>0</td>\n",
       "      <td>2</td>\n",
       "      <td>18</td>\n",
       "    </tr>\n",
       "    <tr>\n",
       "      <th>NT Paed HDU</th>\n",
       "      <td>16</td>\n",
       "      <td>0</td>\n",
       "      <td>0</td>\n",
       "      <td>0</td>\n",
       "      <td>0</td>\n",
       "      <td>0</td>\n",
       "    </tr>\n",
       "    <tr>\n",
       "      <th>NT Ward 2D</th>\n",
       "      <td>70</td>\n",
       "      <td>0</td>\n",
       "      <td>2</td>\n",
       "      <td>12</td>\n",
       "      <td>18</td>\n",
       "      <td>8</td>\n",
       "    </tr>\n",
       "    <tr>\n",
       "      <th>NT Ward 3D</th>\n",
       "      <td>22</td>\n",
       "      <td>0</td>\n",
       "      <td>20</td>\n",
       "      <td>22</td>\n",
       "      <td>0</td>\n",
       "      <td>14</td>\n",
       "    </tr>\n",
       "    <tr>\n",
       "      <th>NT Ward 4D</th>\n",
       "      <td>42</td>\n",
       "      <td>2</td>\n",
       "      <td>6</td>\n",
       "      <td>4</td>\n",
       "      <td>2</td>\n",
       "      <td>20</td>\n",
       "    </tr>\n",
       "    <tr>\n",
       "      <th>NT Ward 5C</th>\n",
       "      <td>50</td>\n",
       "      <td>0</td>\n",
       "      <td>0</td>\n",
       "      <td>0</td>\n",
       "      <td>0</td>\n",
       "      <td>0</td>\n",
       "    </tr>\n",
       "    <tr>\n",
       "      <th>NT Ward 5D</th>\n",
       "      <td>2</td>\n",
       "      <td>0</td>\n",
       "      <td>2</td>\n",
       "      <td>17</td>\n",
       "      <td>9</td>\n",
       "      <td>11</td>\n",
       "    </tr>\n",
       "    <tr>\n",
       "      <th>ST CCU</th>\n",
       "      <td>4</td>\n",
       "      <td>0</td>\n",
       "      <td>0</td>\n",
       "      <td>1</td>\n",
       "      <td>6</td>\n",
       "      <td>0</td>\n",
       "    </tr>\n",
       "    <tr>\n",
       "      <th>ST HDU</th>\n",
       "      <td>2</td>\n",
       "      <td>0</td>\n",
       "      <td>0</td>\n",
       "      <td>1</td>\n",
       "      <td>3</td>\n",
       "      <td>0</td>\n",
       "    </tr>\n",
       "    <tr>\n",
       "      <th>ST ICU</th>\n",
       "      <td>4</td>\n",
       "      <td>0</td>\n",
       "      <td>1</td>\n",
       "      <td>0</td>\n",
       "      <td>4</td>\n",
       "      <td>0</td>\n",
       "    </tr>\n",
       "    <tr>\n",
       "      <th>ST Ward 2A</th>\n",
       "      <td>5</td>\n",
       "      <td>0</td>\n",
       "      <td>4</td>\n",
       "      <td>4</td>\n",
       "      <td>9</td>\n",
       "      <td>8</td>\n",
       "    </tr>\n",
       "    <tr>\n",
       "      <th>ST Ward 3A</th>\n",
       "      <td>2</td>\n",
       "      <td>0</td>\n",
       "      <td>7</td>\n",
       "      <td>13</td>\n",
       "      <td>7</td>\n",
       "      <td>2</td>\n",
       "    </tr>\n",
       "    <tr>\n",
       "      <th>ST Ward 3B</th>\n",
       "      <td>32</td>\n",
       "      <td>0</td>\n",
       "      <td>3</td>\n",
       "      <td>0</td>\n",
       "      <td>2</td>\n",
       "      <td>8</td>\n",
       "    </tr>\n",
       "    <tr>\n",
       "      <th>ST Ward 4A</th>\n",
       "      <td>26</td>\n",
       "      <td>0</td>\n",
       "      <td>1</td>\n",
       "      <td>3</td>\n",
       "      <td>8</td>\n",
       "      <td>7</td>\n",
       "    </tr>\n",
       "    <tr>\n",
       "      <th>ST Ward 4B</th>\n",
       "      <td>21</td>\n",
       "      <td>0</td>\n",
       "      <td>1</td>\n",
       "      <td>1</td>\n",
       "      <td>1</td>\n",
       "      <td>9</td>\n",
       "    </tr>\n",
       "    <tr>\n",
       "      <th>ST Ward 5A</th>\n",
       "      <td>8</td>\n",
       "      <td>0</td>\n",
       "      <td>0</td>\n",
       "      <td>12</td>\n",
       "      <td>8</td>\n",
       "      <td>7</td>\n",
       "    </tr>\n",
       "    <tr>\n",
       "      <th>ST Ward 5B</th>\n",
       "      <td>8</td>\n",
       "      <td>0</td>\n",
       "      <td>0</td>\n",
       "      <td>4</td>\n",
       "      <td>7</td>\n",
       "      <td>7</td>\n",
       "    </tr>\n",
       "  </tbody>\n",
       "</table>\n",
       "</div>"
      ],
      "text/plain": [
       "BEDSTATUS                     Available  Blocked  Occupied Discharge  \\\n",
       "NURSENAME                                                              \n",
       "Daycare Endoscopy                    16        0                   6   \n",
       "Daycare Haemato & Onco Adult          3        0                   2   \n",
       "Daycare Haemato & Onco Paed           2        0                   0   \n",
       "Daycare Imaging                       4        0                   0   \n",
       "Daycare Surgery                      12        0                   4   \n",
       "NT Admission Lounge                  26        0                   0   \n",
       "NT ICU                                6        0                   0   \n",
       "NT Labour Room                       42        0                   0   \n",
       "NT NICU                               4        0                   0   \n",
       "NT Nursery                           98        0                   0   \n",
       "NT Paed HDU                          16        0                   0   \n",
       "NT Ward 2D                           70        0                   2   \n",
       "NT Ward 3D                           22        0                  20   \n",
       "NT Ward 4D                           42        2                   6   \n",
       "NT Ward 5C                           50        0                   0   \n",
       "NT Ward 5D                            2        0                   2   \n",
       "ST CCU                                4        0                   0   \n",
       "ST HDU                                2        0                   0   \n",
       "ST ICU                                4        0                   1   \n",
       "ST Ward 2A                            5        0                   4   \n",
       "ST Ward 3A                            2        0                   7   \n",
       "ST Ward 3B                           32        0                   3   \n",
       "ST Ward 4A                           26        0                   1   \n",
       "ST Ward 4B                           21        0                   1   \n",
       "ST Ward 5A                            8        0                   0   \n",
       "ST Ward 5B                            8        0                   0   \n",
       "\n",
       "BEDSTATUS                     Occupied(Female)  Occupied(Male)  Vacant Dirty  \n",
       "NURSENAME                                                                     \n",
       "Daycare Endoscopy                            0               0            10  \n",
       "Daycare Haemato & Onco Adult                 0               0            30  \n",
       "Daycare Haemato & Onco Paed                  0               0             9  \n",
       "Daycare Imaging                              0               0             6  \n",
       "Daycare Surgery                              0               0            34  \n",
       "NT Admission Lounge                          0               0             2  \n",
       "NT ICU                                       8               2             0  \n",
       "NT Labour Room                               0               0             0  \n",
       "NT NICU                                      2               2             0  \n",
       "NT Nursery                                   0               2            18  \n",
       "NT Paed HDU                                  0               0             0  \n",
       "NT Ward 2D                                  12              18             8  \n",
       "NT Ward 3D                                  22               0            14  \n",
       "NT Ward 4D                                   4               2            20  \n",
       "NT Ward 5C                                   0               0             0  \n",
       "NT Ward 5D                                  17               9            11  \n",
       "ST CCU                                       1               6             0  \n",
       "ST HDU                                       1               3             0  \n",
       "ST ICU                                       0               4             0  \n",
       "ST Ward 2A                                   4               9             8  \n",
       "ST Ward 3A                                  13               7             2  \n",
       "ST Ward 3B                                   0               2             8  \n",
       "ST Ward 4A                                   3               8             7  \n",
       "ST Ward 4B                                   1               1             9  \n",
       "ST Ward 5A                                  12               8             7  \n",
       "ST Ward 5B                                   4               7             7  "
      ]
     },
     "execution_count": 32,
     "metadata": {},
     "output_type": "execute_result"
    }
   ],
   "source": [
    "def bed_status_count_per_ward(df):\n",
    "    # Group by NURSENAME and BEDSTATUS, and count the number of beds\n",
    "    ward_status = df.groupby([\"NURSENAME\", \"BEDSTATUS\"])[\"BEDNAME\"].count().reset_index()\n",
    "\n",
    "    # Pivot the table to get BEDSTATUS as columns\n",
    "    ward_status_pivot = ward_status.pivot(index=\"NURSENAME\", columns=\"BEDSTATUS\", values=\"BEDNAME\").fillna(0).astype(int)\n",
    "    \n",
    "    return ward_status_pivot\n",
    "bed_status_count_per_ward(df)"
   ]
  },
  {
   "cell_type": "code",
   "execution_count": null,
   "id": "2a4c8d5e-f82b-4f27-8ba8-9bcb7bd2d200",
   "metadata": {},
   "outputs": [],
   "source": []
  },
  {
   "cell_type": "markdown",
   "id": "40313b75-50ce-4a83-a36d-180261aa4645",
   "metadata": {},
   "source": [
    "### 8. Calculate count of bed with all the different bed statuses for each room."
   ]
  },
  {
   "cell_type": "code",
   "execution_count": 61,
   "id": "4fe1fa64-3624-4f60-8121-07261f7e9dfb",
   "metadata": {},
   "outputs": [
    {
     "name": "stdout",
     "output_type": "stream",
     "text": [
      "                      ROOMNAME           BEDSTATUS  BEDNAME\n",
      "0    CCU Room 201 ST (ICU/CCU)           Available        4\n",
      "1    CCU Room 201 ST (ICU/CCU)    Occupied(Female)        1\n",
      "2    CCU Room 201 ST (ICU/CCU)      Occupied(Male)        6\n",
      "3        Daycare NT (Day Care)           Available       12\n",
      "4        Daycare NT (Day Care)  Occupied Discharge        4\n",
      "..                         ...                 ...      ...\n",
      "365      Room 587 (Double Bed)    Occupied(Female)        1\n",
      "366      Room 587 (Double Bed)        Vacant Dirty        1\n",
      "367     Room 588 (Four Bedded)           Available        2\n",
      "368        Room G03 (Day Care)           Available        4\n",
      "369        Room G03 (Day Care)        Vacant Dirty        6\n",
      "\n",
      "[370 rows x 3 columns]\n"
     ]
    },
    {
     "data": {
      "text/html": [
       "<div>\n",
       "<style scoped>\n",
       "    .dataframe tbody tr th:only-of-type {\n",
       "        vertical-align: middle;\n",
       "    }\n",
       "\n",
       "    .dataframe tbody tr th {\n",
       "        vertical-align: top;\n",
       "    }\n",
       "\n",
       "    .dataframe thead th {\n",
       "        text-align: right;\n",
       "    }\n",
       "</style>\n",
       "<table border=\"1\" class=\"dataframe\">\n",
       "  <thead>\n",
       "    <tr style=\"text-align: right;\">\n",
       "      <th>BEDSTATUS</th>\n",
       "      <th>Available</th>\n",
       "      <th>Blocked</th>\n",
       "      <th>Occupied Discharge</th>\n",
       "      <th>Occupied(Female)</th>\n",
       "      <th>Occupied(Male)</th>\n",
       "      <th>Vacant Dirty</th>\n",
       "    </tr>\n",
       "    <tr>\n",
       "      <th>ROOMNAME</th>\n",
       "      <th></th>\n",
       "      <th></th>\n",
       "      <th></th>\n",
       "      <th></th>\n",
       "      <th></th>\n",
       "      <th></th>\n",
       "    </tr>\n",
       "  </thead>\n",
       "  <tbody>\n",
       "    <tr>\n",
       "      <th>CCU Room 201 ST (ICU/CCU)</th>\n",
       "      <td>4</td>\n",
       "      <td>0</td>\n",
       "      <td>0</td>\n",
       "      <td>1</td>\n",
       "      <td>6</td>\n",
       "      <td>0</td>\n",
       "    </tr>\n",
       "    <tr>\n",
       "      <th>Daycare NT (Day Care)</th>\n",
       "      <td>12</td>\n",
       "      <td>0</td>\n",
       "      <td>4</td>\n",
       "      <td>0</td>\n",
       "      <td>0</td>\n",
       "      <td>34</td>\n",
       "    </tr>\n",
       "    <tr>\n",
       "      <th>Haematology &amp; Oncology Daycare Adult (Day Care Chemo)</th>\n",
       "      <td>3</td>\n",
       "      <td>0</td>\n",
       "      <td>2</td>\n",
       "      <td>0</td>\n",
       "      <td>0</td>\n",
       "      <td>30</td>\n",
       "    </tr>\n",
       "    <tr>\n",
       "      <th>Haematology &amp; Oncology Daycare Paeds (Day Care Chemo (Private))</th>\n",
       "      <td>2</td>\n",
       "      <td>0</td>\n",
       "      <td>0</td>\n",
       "      <td>0</td>\n",
       "      <td>0</td>\n",
       "      <td>9</td>\n",
       "    </tr>\n",
       "    <tr>\n",
       "      <th>ICU NT  (ICU/CCU)</th>\n",
       "      <td>6</td>\n",
       "      <td>0</td>\n",
       "      <td>0</td>\n",
       "      <td>8</td>\n",
       "      <td>2</td>\n",
       "      <td>0</td>\n",
       "    </tr>\n",
       "    <tr>\n",
       "      <th>...</th>\n",
       "      <td>...</td>\n",
       "      <td>...</td>\n",
       "      <td>...</td>\n",
       "      <td>...</td>\n",
       "      <td>...</td>\n",
       "      <td>...</td>\n",
       "    </tr>\n",
       "    <tr>\n",
       "      <th>Room 585 (Double Bed)</th>\n",
       "      <td>0</td>\n",
       "      <td>0</td>\n",
       "      <td>0</td>\n",
       "      <td>1</td>\n",
       "      <td>0</td>\n",
       "      <td>1</td>\n",
       "    </tr>\n",
       "    <tr>\n",
       "      <th>Room 586 (Double Bed)</th>\n",
       "      <td>0</td>\n",
       "      <td>0</td>\n",
       "      <td>0</td>\n",
       "      <td>1</td>\n",
       "      <td>0</td>\n",
       "      <td>1</td>\n",
       "    </tr>\n",
       "    <tr>\n",
       "      <th>Room 587 (Double Bed)</th>\n",
       "      <td>0</td>\n",
       "      <td>0</td>\n",
       "      <td>0</td>\n",
       "      <td>1</td>\n",
       "      <td>0</td>\n",
       "      <td>1</td>\n",
       "    </tr>\n",
       "    <tr>\n",
       "      <th>Room 588 (Four Bedded)</th>\n",
       "      <td>2</td>\n",
       "      <td>0</td>\n",
       "      <td>0</td>\n",
       "      <td>0</td>\n",
       "      <td>0</td>\n",
       "      <td>0</td>\n",
       "    </tr>\n",
       "    <tr>\n",
       "      <th>Room G03 (Day Care)</th>\n",
       "      <td>4</td>\n",
       "      <td>0</td>\n",
       "      <td>0</td>\n",
       "      <td>0</td>\n",
       "      <td>0</td>\n",
       "      <td>6</td>\n",
       "    </tr>\n",
       "  </tbody>\n",
       "</table>\n",
       "<p>275 rows × 6 columns</p>\n",
       "</div>"
      ],
      "text/plain": [
       "BEDSTATUS                                           Available  Blocked  \\\n",
       "ROOMNAME                                                                 \n",
       "CCU Room 201 ST (ICU/CCU)                                   4        0   \n",
       "Daycare NT (Day Care)                                      12        0   \n",
       "Haematology & Oncology Daycare Adult (Day Care ...          3        0   \n",
       "Haematology & Oncology Daycare Paeds (Day Care ...          2        0   \n",
       "ICU NT  (ICU/CCU)                                           6        0   \n",
       "...                                                       ...      ...   \n",
       "Room 585 (Double Bed)                                       0        0   \n",
       "Room 586 (Double Bed)                                       0        0   \n",
       "Room 587 (Double Bed)                                       0        0   \n",
       "Room 588 (Four Bedded)                                      2        0   \n",
       "Room G03 (Day Care)                                         4        0   \n",
       "\n",
       "BEDSTATUS                                           Occupied Discharge  \\\n",
       "ROOMNAME                                                                 \n",
       "CCU Room 201 ST (ICU/CCU)                                            0   \n",
       "Daycare NT (Day Care)                                                4   \n",
       "Haematology & Oncology Daycare Adult (Day Care ...                   2   \n",
       "Haematology & Oncology Daycare Paeds (Day Care ...                   0   \n",
       "ICU NT  (ICU/CCU)                                                    0   \n",
       "...                                                                ...   \n",
       "Room 585 (Double Bed)                                                0   \n",
       "Room 586 (Double Bed)                                                0   \n",
       "Room 587 (Double Bed)                                                0   \n",
       "Room 588 (Four Bedded)                                               0   \n",
       "Room G03 (Day Care)                                                  0   \n",
       "\n",
       "BEDSTATUS                                           Occupied(Female)  \\\n",
       "ROOMNAME                                                               \n",
       "CCU Room 201 ST (ICU/CCU)                                          1   \n",
       "Daycare NT (Day Care)                                              0   \n",
       "Haematology & Oncology Daycare Adult (Day Care ...                 0   \n",
       "Haematology & Oncology Daycare Paeds (Day Care ...                 0   \n",
       "ICU NT  (ICU/CCU)                                                  8   \n",
       "...                                                              ...   \n",
       "Room 585 (Double Bed)                                              1   \n",
       "Room 586 (Double Bed)                                              1   \n",
       "Room 587 (Double Bed)                                              1   \n",
       "Room 588 (Four Bedded)                                             0   \n",
       "Room G03 (Day Care)                                                0   \n",
       "\n",
       "BEDSTATUS                                           Occupied(Male)  \\\n",
       "ROOMNAME                                                             \n",
       "CCU Room 201 ST (ICU/CCU)                                        6   \n",
       "Daycare NT (Day Care)                                            0   \n",
       "Haematology & Oncology Daycare Adult (Day Care ...               0   \n",
       "Haematology & Oncology Daycare Paeds (Day Care ...               0   \n",
       "ICU NT  (ICU/CCU)                                                2   \n",
       "...                                                            ...   \n",
       "Room 585 (Double Bed)                                            0   \n",
       "Room 586 (Double Bed)                                            0   \n",
       "Room 587 (Double Bed)                                            0   \n",
       "Room 588 (Four Bedded)                                           0   \n",
       "Room G03 (Day Care)                                              0   \n",
       "\n",
       "BEDSTATUS                                           Vacant Dirty  \n",
       "ROOMNAME                                                          \n",
       "CCU Room 201 ST (ICU/CCU)                                      0  \n",
       "Daycare NT (Day Care)                                         34  \n",
       "Haematology & Oncology Daycare Adult (Day Care ...            30  \n",
       "Haematology & Oncology Daycare Paeds (Day Care ...             9  \n",
       "ICU NT  (ICU/CCU)                                              0  \n",
       "...                                                          ...  \n",
       "Room 585 (Double Bed)                                          1  \n",
       "Room 586 (Double Bed)                                          1  \n",
       "Room 587 (Double Bed)                                          1  \n",
       "Room 588 (Four Bedded)                                         0  \n",
       "Room G03 (Day Care)                                            6  \n",
       "\n",
       "[275 rows x 6 columns]"
      ]
     },
     "execution_count": 61,
     "metadata": {},
     "output_type": "execute_result"
    }
   ],
   "source": [
    "def bed_status_count_per_room(df):\n",
    "    # Group by ROOMNAME and BEDSTATUS, count the number of beds\n",
    "    room_status = df.groupby([\"ROOMNAME\", \"BEDSTATUS\"])[\"BEDNAME\"].count().reset_index()\n",
    "\n",
    "    # Pivot the table to get BEDSTATUS values as columns\n",
    "    room_status_pivot = room_status.pivot(index=\"ROOMNAME\", columns=\"BEDSTATUS\", values=\"BEDNAME\").fillna(0).astype(int)\n",
    "\n",
    "    return room_status_pivot\n",
    "bed_status_count_per_room(df)"
   ]
  },
  {
   "cell_type": "code",
   "execution_count": null,
   "id": "e07abbc3-32e3-496a-87ba-d81a47861596",
   "metadata": {},
   "outputs": [],
   "source": []
  },
  {
   "cell_type": "code",
   "execution_count": null,
   "id": "bdbb5a87-46bc-4841-9841-a5c392ad4abd",
   "metadata": {},
   "outputs": [],
   "source": []
  },
  {
   "cell_type": "code",
   "execution_count": null,
   "id": "01013c88-86a0-466f-9b90-49e4742ffa5e",
   "metadata": {},
   "outputs": [],
   "source": []
  }
 ],
 "metadata": {
  "kernelspec": {
   "display_name": "Python 3 (ipykernel)",
   "language": "python",
   "name": "python3"
  },
  "language_info": {
   "codemirror_mode": {
    "name": "ipython",
    "version": 3
   },
   "file_extension": ".py",
   "mimetype": "text/x-python",
   "name": "python",
   "nbconvert_exporter": "python",
   "pygments_lexer": "ipython3",
   "version": "3.13.3"
  }
 },
 "nbformat": 4,
 "nbformat_minor": 5
}
